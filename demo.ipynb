{
 "cells": [
  {
   "cell_type": "code",
   "execution_count": null,
   "metadata": {},
   "outputs": [],
   "source": [
    "from aseMolec.zenExplorer import ze\n",
    "\n",
    "recIDs = [10835267, 10712131, 10890165]\n",
    "with open(\"api.key\", \"r\") as keyFile:\n",
    "    ACCESS_TOKEN = keyFile.readline().rstrip()\n",
    "\n",
    "ze = ze(ACCESS_TOKEN, recIDs)\n",
    "ze.cache_all_data()"
   ]
  }
 ],
 "metadata": {
  "language_info": {
   "name": "python"
  }
 },
 "nbformat": 4,
 "nbformat_minor": 2
}
