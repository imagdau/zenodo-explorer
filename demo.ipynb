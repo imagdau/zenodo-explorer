{
 "cells": [
  {
   "cell_type": "markdown",
   "metadata": {},
   "source": [
    "# Cache all data from Zenodo community"
   ]
  },
  {
   "cell_type": "code",
   "execution_count": 1,
   "metadata": {},
   "outputs": [],
   "source": [
    "from zenodoExplorer.zenexp import ze\n",
    "\n",
    "recIDs = [10835267, 10712131, 10890165]\n",
    "with open(\"api.key\", \"r\") as keyFile:\n",
    "    ACCESS_TOKEN = keyFile.readline().rstrip()\n",
    "\n",
    "ze = ze(ACCESS_TOKEN, recIDs)"
   ]
  },
  {
   "cell_type": "markdown",
   "metadata": {},
   "source": [
    "# Check available data"
   ]
  },
  {
   "cell_type": "code",
   "execution_count": 2,
   "metadata": {},
   "outputs": [
    {
     "data": {
      "application/vnd.plotly.v1+json": {
       "config": {
        "plotlyServerURL": "https://plot.ly"
       },
       "data": [
        {
         "arrangement": "snap",
         "link": {
          "source": [
           0,
           0,
           0,
           0,
           1,
           1,
           2,
           3,
           3,
           3,
           3,
           3,
           4,
           4,
           5,
           6,
           7,
           8,
           9,
           11,
           13,
           13,
           14,
           15,
           16,
           16,
           17,
           18,
           19,
           20,
           20,
           21
          ],
          "target": [
           3,
           4,
           5,
           9,
           6,
           7,
           8,
           10,
           11,
           18,
           20,
           21,
           12,
           13,
           14,
           15,
           16,
           17,
           19,
           29,
           22,
           23,
           27,
           28,
           24,
           25,
           26,
           30,
           31,
           33,
           34,
           32
          ],
          "value": [
           1,
           1,
           1,
           1,
           1,
           1,
           1,
           1,
           1,
           1,
           1,
           1,
           1,
           1,
           1,
           1,
           1,
           1,
           1,
           1,
           1,
           1,
           1,
           1,
           1,
           1,
           1,
           1,
           1,
           1,
           1,
           1
          ]
         },
         "node": {
          "customdata": [
           "ac1@10835267",
           "ac1@10712131",
           "ac2@10712131",
           "td1@10835267",
           "td2@10835267",
           "td1@10712131",
           "td2@10712131",
           "td3@10712131",
           "td4@10712131",
           "td1@10890165",
           "ml1@10835267",
           "ml2@10835267",
           "ml3@10835267",
           "ml4@10835267",
           "ml1@10712131",
           "ml2@10712131",
           "ml3@10712131",
           "ml4@10712131",
           "ml1@10890165",
           "ml2@10890165",
           "ml3@10890165",
           "ml4@10890165",
           "md1@10835267",
           "md2@10835267",
           "md1@10712131",
           "md2@10712131",
           "md3@10712131",
           "md4@10712131",
           "md5@10712131",
           "md1@10890165",
           "md2@10890165",
           "md3@10890165",
           "md4@10890165",
           "md5@10890165",
           "md6@10890165"
          ],
          "hovertemplate": "%{customdata}",
          "label": [
           "IBM23",
           "SD22NQ",
           "SD22NQQ",
           "CASTEP/PBE-D2",
           "CP2K/PBE-D3",
           "VASP/B97-D3BJ",
           "PSI4/B97-D3BJ",
           "PSI4/wB97X-D3BJ",
           "PSI4/wB97X-D3BJ",
           "CASTEP (ASE+LAMMPS)/PBE-D2 (-fixed charge baseline)",
           "GAP/DS, Rcut 3/6",
           "GAP/DTS, Rcut 3/6",
           "GAP/DS, Rcut 3/6",
           "GAP/DTS, Rcut 3/6",
           "MACE/Layers 2, Rcut 6+6",
           "MACE/Layers 2, Rcut 6+6",
           "MACE/Layers 2, Rcut 6+6",
           "MACE/Layers 2, Rcut 6+6",
           "GAP/DTS, Rcut 3/6 (seeds 1,2,3)",
           "GAP/DTS, Rcut 3/6",
           "MACE/Layers 2, Rcut 4+4",
           "MACE/Layers 2, Rcut 6+6",
           "0%, 33%, 67%, 100% EC:EMC/NPT/300 K",
           "0%, 33%, 67%, 100% EC:EMC/NPT/350 K",
           "EMC/NPT/298 K",
           "0%, 33%, 67%, 100% EC:EMC/NPT/298, 298, 298, 313 K",
           "0%, 33%, 67%, 100% EC:EMC/NPT/298, 298, 298, 313 K",
           "0%, 33%, 67%, 100% EC:EMC/NPT/298, 298, 298, 313 K",
           "0%, 33%, 67%, 100% EC:EMC/NPT/298, 298, 298, 313 K",
           "33% EC:EMC (seeds 1,2,3)/NPT, NVT/500 K",
           "33% EC:EMC/NPT, NVT/500 K",
           "33% EC:EMC (seeds 1,2,3)/NPT, NVT/500 K",
           "33% EC:EMC/NPT, NVT/500 K",
           "33% EC:EMC/NPT, NVT/500 K",
           "33% EC:EMC (seeds 1,2,3)/NPT, NVT/500 K"
          ],
          "line": {
           "color": "black",
           "width": 0.5
          },
          "pad": 15,
          "thickness": 15,
          "x": [
           0.01,
           0.01,
           0.01,
           0.1,
           0.1,
           0.1,
           0.1,
           0.1,
           0.1,
           0.1,
           0.3,
           0.3,
           0.3,
           0.3,
           0.3,
           0.3,
           0.3,
           0.3,
           0.3,
           0.3,
           0.3,
           0.3,
           0.99,
           0.99,
           0.99,
           0.99,
           0.99,
           0.99,
           0.99,
           0.99,
           0.99,
           0.99,
           0.99,
           0.99,
           0.99
          ],
          "y": [
           0.1,
           0.3666666666666667,
           0.6333333333333333,
           0.1,
           0.2142857142857143,
           0.3285714285714286,
           0.44285714285714284,
           0.5571428571428572,
           0.6714285714285715,
           0.7857142857142857,
           0.1,
           0.16666666666666669,
           0.23333333333333334,
           0.30000000000000004,
           0.3666666666666667,
           0.43333333333333335,
           0.5,
           0.5666666666666667,
           0.6333333333333333,
           0.7,
           0.7666666666666666,
           0.8333333333333333,
           0.1,
           0.16153846153846155,
           0.2230769230769231,
           0.2846153846153846,
           0.34615384615384615,
           0.4076923076923077,
           0.46923076923076923,
           0.5307692307692308,
           0.5923076923076923,
           0.6538461538461539,
           0.7153846153846154,
           0.7769230769230769,
           0.8384615384615385
          ]
         },
         "type": "sankey"
        }
       ],
       "layout": {
        "template": {
         "data": {
          "bar": [
           {
            "error_x": {
             "color": "#2a3f5f"
            },
            "error_y": {
             "color": "#2a3f5f"
            },
            "marker": {
             "line": {
              "color": "#E5ECF6",
              "width": 0.5
             },
             "pattern": {
              "fillmode": "overlay",
              "size": 10,
              "solidity": 0.2
             }
            },
            "type": "bar"
           }
          ],
          "barpolar": [
           {
            "marker": {
             "line": {
              "color": "#E5ECF6",
              "width": 0.5
             },
             "pattern": {
              "fillmode": "overlay",
              "size": 10,
              "solidity": 0.2
             }
            },
            "type": "barpolar"
           }
          ],
          "carpet": [
           {
            "aaxis": {
             "endlinecolor": "#2a3f5f",
             "gridcolor": "white",
             "linecolor": "white",
             "minorgridcolor": "white",
             "startlinecolor": "#2a3f5f"
            },
            "baxis": {
             "endlinecolor": "#2a3f5f",
             "gridcolor": "white",
             "linecolor": "white",
             "minorgridcolor": "white",
             "startlinecolor": "#2a3f5f"
            },
            "type": "carpet"
           }
          ],
          "choropleth": [
           {
            "colorbar": {
             "outlinewidth": 0,
             "ticks": ""
            },
            "type": "choropleth"
           }
          ],
          "contour": [
           {
            "colorbar": {
             "outlinewidth": 0,
             "ticks": ""
            },
            "colorscale": [
             [
              0,
              "#0d0887"
             ],
             [
              0.1111111111111111,
              "#46039f"
             ],
             [
              0.2222222222222222,
              "#7201a8"
             ],
             [
              0.3333333333333333,
              "#9c179e"
             ],
             [
              0.4444444444444444,
              "#bd3786"
             ],
             [
              0.5555555555555556,
              "#d8576b"
             ],
             [
              0.6666666666666666,
              "#ed7953"
             ],
             [
              0.7777777777777778,
              "#fb9f3a"
             ],
             [
              0.8888888888888888,
              "#fdca26"
             ],
             [
              1,
              "#f0f921"
             ]
            ],
            "type": "contour"
           }
          ],
          "contourcarpet": [
           {
            "colorbar": {
             "outlinewidth": 0,
             "ticks": ""
            },
            "type": "contourcarpet"
           }
          ],
          "heatmap": [
           {
            "colorbar": {
             "outlinewidth": 0,
             "ticks": ""
            },
            "colorscale": [
             [
              0,
              "#0d0887"
             ],
             [
              0.1111111111111111,
              "#46039f"
             ],
             [
              0.2222222222222222,
              "#7201a8"
             ],
             [
              0.3333333333333333,
              "#9c179e"
             ],
             [
              0.4444444444444444,
              "#bd3786"
             ],
             [
              0.5555555555555556,
              "#d8576b"
             ],
             [
              0.6666666666666666,
              "#ed7953"
             ],
             [
              0.7777777777777778,
              "#fb9f3a"
             ],
             [
              0.8888888888888888,
              "#fdca26"
             ],
             [
              1,
              "#f0f921"
             ]
            ],
            "type": "heatmap"
           }
          ],
          "heatmapgl": [
           {
            "colorbar": {
             "outlinewidth": 0,
             "ticks": ""
            },
            "colorscale": [
             [
              0,
              "#0d0887"
             ],
             [
              0.1111111111111111,
              "#46039f"
             ],
             [
              0.2222222222222222,
              "#7201a8"
             ],
             [
              0.3333333333333333,
              "#9c179e"
             ],
             [
              0.4444444444444444,
              "#bd3786"
             ],
             [
              0.5555555555555556,
              "#d8576b"
             ],
             [
              0.6666666666666666,
              "#ed7953"
             ],
             [
              0.7777777777777778,
              "#fb9f3a"
             ],
             [
              0.8888888888888888,
              "#fdca26"
             ],
             [
              1,
              "#f0f921"
             ]
            ],
            "type": "heatmapgl"
           }
          ],
          "histogram": [
           {
            "marker": {
             "pattern": {
              "fillmode": "overlay",
              "size": 10,
              "solidity": 0.2
             }
            },
            "type": "histogram"
           }
          ],
          "histogram2d": [
           {
            "colorbar": {
             "outlinewidth": 0,
             "ticks": ""
            },
            "colorscale": [
             [
              0,
              "#0d0887"
             ],
             [
              0.1111111111111111,
              "#46039f"
             ],
             [
              0.2222222222222222,
              "#7201a8"
             ],
             [
              0.3333333333333333,
              "#9c179e"
             ],
             [
              0.4444444444444444,
              "#bd3786"
             ],
             [
              0.5555555555555556,
              "#d8576b"
             ],
             [
              0.6666666666666666,
              "#ed7953"
             ],
             [
              0.7777777777777778,
              "#fb9f3a"
             ],
             [
              0.8888888888888888,
              "#fdca26"
             ],
             [
              1,
              "#f0f921"
             ]
            ],
            "type": "histogram2d"
           }
          ],
          "histogram2dcontour": [
           {
            "colorbar": {
             "outlinewidth": 0,
             "ticks": ""
            },
            "colorscale": [
             [
              0,
              "#0d0887"
             ],
             [
              0.1111111111111111,
              "#46039f"
             ],
             [
              0.2222222222222222,
              "#7201a8"
             ],
             [
              0.3333333333333333,
              "#9c179e"
             ],
             [
              0.4444444444444444,
              "#bd3786"
             ],
             [
              0.5555555555555556,
              "#d8576b"
             ],
             [
              0.6666666666666666,
              "#ed7953"
             ],
             [
              0.7777777777777778,
              "#fb9f3a"
             ],
             [
              0.8888888888888888,
              "#fdca26"
             ],
             [
              1,
              "#f0f921"
             ]
            ],
            "type": "histogram2dcontour"
           }
          ],
          "mesh3d": [
           {
            "colorbar": {
             "outlinewidth": 0,
             "ticks": ""
            },
            "type": "mesh3d"
           }
          ],
          "parcoords": [
           {
            "line": {
             "colorbar": {
              "outlinewidth": 0,
              "ticks": ""
             }
            },
            "type": "parcoords"
           }
          ],
          "pie": [
           {
            "automargin": true,
            "type": "pie"
           }
          ],
          "scatter": [
           {
            "fillpattern": {
             "fillmode": "overlay",
             "size": 10,
             "solidity": 0.2
            },
            "type": "scatter"
           }
          ],
          "scatter3d": [
           {
            "line": {
             "colorbar": {
              "outlinewidth": 0,
              "ticks": ""
             }
            },
            "marker": {
             "colorbar": {
              "outlinewidth": 0,
              "ticks": ""
             }
            },
            "type": "scatter3d"
           }
          ],
          "scattercarpet": [
           {
            "marker": {
             "colorbar": {
              "outlinewidth": 0,
              "ticks": ""
             }
            },
            "type": "scattercarpet"
           }
          ],
          "scattergeo": [
           {
            "marker": {
             "colorbar": {
              "outlinewidth": 0,
              "ticks": ""
             }
            },
            "type": "scattergeo"
           }
          ],
          "scattergl": [
           {
            "marker": {
             "colorbar": {
              "outlinewidth": 0,
              "ticks": ""
             }
            },
            "type": "scattergl"
           }
          ],
          "scattermapbox": [
           {
            "marker": {
             "colorbar": {
              "outlinewidth": 0,
              "ticks": ""
             }
            },
            "type": "scattermapbox"
           }
          ],
          "scatterpolar": [
           {
            "marker": {
             "colorbar": {
              "outlinewidth": 0,
              "ticks": ""
             }
            },
            "type": "scatterpolar"
           }
          ],
          "scatterpolargl": [
           {
            "marker": {
             "colorbar": {
              "outlinewidth": 0,
              "ticks": ""
             }
            },
            "type": "scatterpolargl"
           }
          ],
          "scatterternary": [
           {
            "marker": {
             "colorbar": {
              "outlinewidth": 0,
              "ticks": ""
             }
            },
            "type": "scatterternary"
           }
          ],
          "surface": [
           {
            "colorbar": {
             "outlinewidth": 0,
             "ticks": ""
            },
            "colorscale": [
             [
              0,
              "#0d0887"
             ],
             [
              0.1111111111111111,
              "#46039f"
             ],
             [
              0.2222222222222222,
              "#7201a8"
             ],
             [
              0.3333333333333333,
              "#9c179e"
             ],
             [
              0.4444444444444444,
              "#bd3786"
             ],
             [
              0.5555555555555556,
              "#d8576b"
             ],
             [
              0.6666666666666666,
              "#ed7953"
             ],
             [
              0.7777777777777778,
              "#fb9f3a"
             ],
             [
              0.8888888888888888,
              "#fdca26"
             ],
             [
              1,
              "#f0f921"
             ]
            ],
            "type": "surface"
           }
          ],
          "table": [
           {
            "cells": {
             "fill": {
              "color": "#EBF0F8"
             },
             "line": {
              "color": "white"
             }
            },
            "header": {
             "fill": {
              "color": "#C8D4E3"
             },
             "line": {
              "color": "white"
             }
            },
            "type": "table"
           }
          ]
         },
         "layout": {
          "annotationdefaults": {
           "arrowcolor": "#2a3f5f",
           "arrowhead": 0,
           "arrowwidth": 1
          },
          "autotypenumbers": "strict",
          "coloraxis": {
           "colorbar": {
            "outlinewidth": 0,
            "ticks": ""
           }
          },
          "colorscale": {
           "diverging": [
            [
             0,
             "#8e0152"
            ],
            [
             0.1,
             "#c51b7d"
            ],
            [
             0.2,
             "#de77ae"
            ],
            [
             0.3,
             "#f1b6da"
            ],
            [
             0.4,
             "#fde0ef"
            ],
            [
             0.5,
             "#f7f7f7"
            ],
            [
             0.6,
             "#e6f5d0"
            ],
            [
             0.7,
             "#b8e186"
            ],
            [
             0.8,
             "#7fbc41"
            ],
            [
             0.9,
             "#4d9221"
            ],
            [
             1,
             "#276419"
            ]
           ],
           "sequential": [
            [
             0,
             "#0d0887"
            ],
            [
             0.1111111111111111,
             "#46039f"
            ],
            [
             0.2222222222222222,
             "#7201a8"
            ],
            [
             0.3333333333333333,
             "#9c179e"
            ],
            [
             0.4444444444444444,
             "#bd3786"
            ],
            [
             0.5555555555555556,
             "#d8576b"
            ],
            [
             0.6666666666666666,
             "#ed7953"
            ],
            [
             0.7777777777777778,
             "#fb9f3a"
            ],
            [
             0.8888888888888888,
             "#fdca26"
            ],
            [
             1,
             "#f0f921"
            ]
           ],
           "sequentialminus": [
            [
             0,
             "#0d0887"
            ],
            [
             0.1111111111111111,
             "#46039f"
            ],
            [
             0.2222222222222222,
             "#7201a8"
            ],
            [
             0.3333333333333333,
             "#9c179e"
            ],
            [
             0.4444444444444444,
             "#bd3786"
            ],
            [
             0.5555555555555556,
             "#d8576b"
            ],
            [
             0.6666666666666666,
             "#ed7953"
            ],
            [
             0.7777777777777778,
             "#fb9f3a"
            ],
            [
             0.8888888888888888,
             "#fdca26"
            ],
            [
             1,
             "#f0f921"
            ]
           ]
          },
          "colorway": [
           "#636efa",
           "#EF553B",
           "#00cc96",
           "#ab63fa",
           "#FFA15A",
           "#19d3f3",
           "#FF6692",
           "#B6E880",
           "#FF97FF",
           "#FECB52"
          ],
          "font": {
           "color": "#2a3f5f"
          },
          "geo": {
           "bgcolor": "white",
           "lakecolor": "white",
           "landcolor": "#E5ECF6",
           "showlakes": true,
           "showland": true,
           "subunitcolor": "white"
          },
          "hoverlabel": {
           "align": "left"
          },
          "hovermode": "closest",
          "mapbox": {
           "style": "light"
          },
          "paper_bgcolor": "white",
          "plot_bgcolor": "#E5ECF6",
          "polar": {
           "angularaxis": {
            "gridcolor": "white",
            "linecolor": "white",
            "ticks": ""
           },
           "bgcolor": "#E5ECF6",
           "radialaxis": {
            "gridcolor": "white",
            "linecolor": "white",
            "ticks": ""
           }
          },
          "scene": {
           "xaxis": {
            "backgroundcolor": "#E5ECF6",
            "gridcolor": "white",
            "gridwidth": 2,
            "linecolor": "white",
            "showbackground": true,
            "ticks": "",
            "zerolinecolor": "white"
           },
           "yaxis": {
            "backgroundcolor": "#E5ECF6",
            "gridcolor": "white",
            "gridwidth": 2,
            "linecolor": "white",
            "showbackground": true,
            "ticks": "",
            "zerolinecolor": "white"
           },
           "zaxis": {
            "backgroundcolor": "#E5ECF6",
            "gridcolor": "white",
            "gridwidth": 2,
            "linecolor": "white",
            "showbackground": true,
            "ticks": "",
            "zerolinecolor": "white"
           }
          },
          "shapedefaults": {
           "line": {
            "color": "#2a3f5f"
           }
          },
          "ternary": {
           "aaxis": {
            "gridcolor": "white",
            "linecolor": "white",
            "ticks": ""
           },
           "baxis": {
            "gridcolor": "white",
            "linecolor": "white",
            "ticks": ""
           },
           "bgcolor": "#E5ECF6",
           "caxis": {
            "gridcolor": "white",
            "linecolor": "white",
            "ticks": ""
           }
          },
          "title": {
           "x": 0.05
          },
          "xaxis": {
           "automargin": true,
           "gridcolor": "white",
           "linecolor": "white",
           "ticks": "",
           "title": {
            "standoff": 15
           },
           "zerolinecolor": "white",
           "zerolinewidth": 2
          },
          "yaxis": {
           "automargin": true,
           "gridcolor": "white",
           "linecolor": "white",
           "ticks": "",
           "title": {
            "standoff": 15
           },
           "zerolinecolor": "white",
           "zerolinewidth": 2
          }
         }
        }
       }
      }
     },
     "metadata": {},
     "output_type": "display_data"
    }
   ],
   "source": [
    "ze.read_zdb()\n",
    "ze.zdb.plot()"
   ]
  },
  {
   "cell_type": "markdown",
   "metadata": {},
   "source": [
    "# Show table of MD simulations"
   ]
  },
  {
   "cell_type": "code",
   "execution_count": 3,
   "metadata": {},
   "outputs": [
    {
     "data": {
      "text/html": [
       "<div>\n",
       "<style scoped>\n",
       "    .dataframe tbody tr th:only-of-type {\n",
       "        vertical-align: middle;\n",
       "    }\n",
       "\n",
       "    .dataframe tbody tr th {\n",
       "        vertical-align: top;\n",
       "    }\n",
       "\n",
       "    .dataframe thead th {\n",
       "        text-align: right;\n",
       "    }\n",
       "</style>\n",
       "<table border=\"1\" class=\"dataframe\">\n",
       "  <thead>\n",
       "    <tr style=\"text-align: right;\">\n",
       "      <th></th>\n",
       "      <th>pes_model</th>\n",
       "      <th>md_code</th>\n",
       "      <th>md_system</th>\n",
       "      <th>md_no_at</th>\n",
       "      <th>md_ensmb</th>\n",
       "      <th>md_step</th>\n",
       "      <th>md_len</th>\n",
       "      <th>md_temp</th>\n",
       "      <th>md_pres</th>\n",
       "    </tr>\n",
       "    <tr>\n",
       "      <th>tag</th>\n",
       "      <th></th>\n",
       "      <th></th>\n",
       "      <th></th>\n",
       "      <th></th>\n",
       "      <th></th>\n",
       "      <th></th>\n",
       "      <th></th>\n",
       "      <th></th>\n",
       "      <th></th>\n",
       "    </tr>\n",
       "  </thead>\n",
       "  <tbody>\n",
       "    <tr>\n",
       "      <th>md1@10835267</th>\n",
       "      <td>ml4@10835267</td>\n",
       "      <td>LAMMPS</td>\n",
       "      <td>0%, 33%, 67%, 100% EC:EMC</td>\n",
       "      <td>1000</td>\n",
       "      <td>NPT</td>\n",
       "      <td>1.0 fs</td>\n",
       "      <td>1.0 ns</td>\n",
       "      <td>300 K</td>\n",
       "      <td>1 atm</td>\n",
       "    </tr>\n",
       "    <tr>\n",
       "      <th>md2@10835267</th>\n",
       "      <td>ml4@10835267</td>\n",
       "      <td>LAMMPS</td>\n",
       "      <td>0%, 33%, 67%, 100% EC:EMC</td>\n",
       "      <td>1000</td>\n",
       "      <td>NPT</td>\n",
       "      <td>1.0 fs</td>\n",
       "      <td>1.0 ns</td>\n",
       "      <td>350 K</td>\n",
       "      <td>1 atm</td>\n",
       "    </tr>\n",
       "    <tr>\n",
       "      <th>md1@10712131</th>\n",
       "      <td>ml3@10712131</td>\n",
       "      <td>ASE</td>\n",
       "      <td>EMC</td>\n",
       "      <td>1000</td>\n",
       "      <td>NPT</td>\n",
       "      <td>1.0 fs</td>\n",
       "      <td>1.0 ns</td>\n",
       "      <td>298 K</td>\n",
       "      <td>1 atm</td>\n",
       "    </tr>\n",
       "    <tr>\n",
       "      <th>md2@10712131</th>\n",
       "      <td>ml3@10712131</td>\n",
       "      <td>ASE</td>\n",
       "      <td>0%, 33%, 67%, 100% EC:EMC</td>\n",
       "      <td>1000</td>\n",
       "      <td>NPT</td>\n",
       "      <td>0.5 fs</td>\n",
       "      <td>0.5-1.0 ns</td>\n",
       "      <td>298, 298, 298, 313 K</td>\n",
       "      <td>1 atm</td>\n",
       "    </tr>\n",
       "    <tr>\n",
       "      <th>md3@10712131</th>\n",
       "      <td>ml4@10712131</td>\n",
       "      <td>ASE</td>\n",
       "      <td>0%, 33%, 67%, 100% EC:EMC</td>\n",
       "      <td>1000</td>\n",
       "      <td>NPT</td>\n",
       "      <td>1.0 fs</td>\n",
       "      <td>0.5 ns</td>\n",
       "      <td>298, 298, 298, 313 K</td>\n",
       "      <td>1 atm</td>\n",
       "    </tr>\n",
       "    <tr>\n",
       "      <th>md4@10712131</th>\n",
       "      <td>ml1@10712131</td>\n",
       "      <td>ASE</td>\n",
       "      <td>0%, 33%, 67%, 100% EC:EMC</td>\n",
       "      <td>1000</td>\n",
       "      <td>NPT</td>\n",
       "      <td>1.0 fs</td>\n",
       "      <td>0.8-1.0 ns</td>\n",
       "      <td>298, 298, 298, 313 K</td>\n",
       "      <td>1 atm</td>\n",
       "    </tr>\n",
       "    <tr>\n",
       "      <th>md5@10712131</th>\n",
       "      <td>ml2@10712131</td>\n",
       "      <td>ASE</td>\n",
       "      <td>0%, 33%, 67%, 100% EC:EMC</td>\n",
       "      <td>1000</td>\n",
       "      <td>NPT</td>\n",
       "      <td>1.0 fs</td>\n",
       "      <td>0.8-1.0 ns</td>\n",
       "      <td>298, 298, 298, 313 K</td>\n",
       "      <td>1 atm</td>\n",
       "    </tr>\n",
       "    <tr>\n",
       "      <th>md1@10890165</th>\n",
       "      <td>ml2@10835267</td>\n",
       "      <td>LAMMPS</td>\n",
       "      <td>33% EC:EMC (seeds 1,2,3)</td>\n",
       "      <td>640</td>\n",
       "      <td>NPT, NVT</td>\n",
       "      <td>1.0 fs</td>\n",
       "      <td>0.6 ns</td>\n",
       "      <td>500 K</td>\n",
       "      <td>1 atm</td>\n",
       "    </tr>\n",
       "    <tr>\n",
       "      <th>md2@10890165</th>\n",
       "      <td>ml1@10890165</td>\n",
       "      <td>LAMMPS</td>\n",
       "      <td>33% EC:EMC</td>\n",
       "      <td>640</td>\n",
       "      <td>NPT, NVT</td>\n",
       "      <td>1.0 fs</td>\n",
       "      <td>0.6 ns</td>\n",
       "      <td>500 K</td>\n",
       "      <td>1 atm</td>\n",
       "    </tr>\n",
       "    <tr>\n",
       "      <th>md3@10890165</th>\n",
       "      <td>ml2@10890165</td>\n",
       "      <td>LAMMPS</td>\n",
       "      <td>33% EC:EMC (seeds 1,2,3)</td>\n",
       "      <td>640</td>\n",
       "      <td>NPT, NVT</td>\n",
       "      <td>1.0 fs</td>\n",
       "      <td>1.0 ns</td>\n",
       "      <td>500 K</td>\n",
       "      <td>1 atm</td>\n",
       "    </tr>\n",
       "    <tr>\n",
       "      <th>md4@10890165</th>\n",
       "      <td>ml4@10890165</td>\n",
       "      <td>LAMMPS</td>\n",
       "      <td>33% EC:EMC</td>\n",
       "      <td>640</td>\n",
       "      <td>NPT, NVT</td>\n",
       "      <td>1.0 fs</td>\n",
       "      <td>0.5 ns</td>\n",
       "      <td>500 K</td>\n",
       "      <td>1 atm</td>\n",
       "    </tr>\n",
       "    <tr>\n",
       "      <th>md5@10890165</th>\n",
       "      <td>ml3@10890165</td>\n",
       "      <td>LAMMPS</td>\n",
       "      <td>33% EC:EMC</td>\n",
       "      <td>640</td>\n",
       "      <td>NPT, NVT</td>\n",
       "      <td>1.0 fs</td>\n",
       "      <td>0.9 ns</td>\n",
       "      <td>500 K</td>\n",
       "      <td>1 atm</td>\n",
       "    </tr>\n",
       "    <tr>\n",
       "      <th>md6@10890165</th>\n",
       "      <td>ml3@10890165</td>\n",
       "      <td>ASE</td>\n",
       "      <td>33% EC:EMC (seeds 1,2,3)</td>\n",
       "      <td>640</td>\n",
       "      <td>NPT, NVT</td>\n",
       "      <td>1.0 fs</td>\n",
       "      <td>0.9 ns</td>\n",
       "      <td>500 K</td>\n",
       "      <td>1 atm</td>\n",
       "    </tr>\n",
       "  </tbody>\n",
       "</table>\n",
       "</div>"
      ],
      "text/plain": [
       "                 pes_model md_code                  md_system  md_no_at  \\\n",
       "tag                                                                       \n",
       "md1@10835267  ml4@10835267  LAMMPS  0%, 33%, 67%, 100% EC:EMC      1000   \n",
       "md2@10835267  ml4@10835267  LAMMPS  0%, 33%, 67%, 100% EC:EMC      1000   \n",
       "md1@10712131  ml3@10712131     ASE                        EMC      1000   \n",
       "md2@10712131  ml3@10712131     ASE  0%, 33%, 67%, 100% EC:EMC      1000   \n",
       "md3@10712131  ml4@10712131     ASE  0%, 33%, 67%, 100% EC:EMC      1000   \n",
       "md4@10712131  ml1@10712131     ASE  0%, 33%, 67%, 100% EC:EMC      1000   \n",
       "md5@10712131  ml2@10712131     ASE  0%, 33%, 67%, 100% EC:EMC      1000   \n",
       "md1@10890165  ml2@10835267  LAMMPS   33% EC:EMC (seeds 1,2,3)       640   \n",
       "md2@10890165  ml1@10890165  LAMMPS                 33% EC:EMC       640   \n",
       "md3@10890165  ml2@10890165  LAMMPS   33% EC:EMC (seeds 1,2,3)       640   \n",
       "md4@10890165  ml4@10890165  LAMMPS                 33% EC:EMC       640   \n",
       "md5@10890165  ml3@10890165  LAMMPS                 33% EC:EMC       640   \n",
       "md6@10890165  ml3@10890165     ASE   33% EC:EMC (seeds 1,2,3)       640   \n",
       "\n",
       "              md_ensmb md_step      md_len               md_temp md_pres  \n",
       "tag                                                                       \n",
       "md1@10835267       NPT  1.0 fs      1.0 ns                 300 K   1 atm  \n",
       "md2@10835267       NPT  1.0 fs      1.0 ns                 350 K   1 atm  \n",
       "md1@10712131       NPT  1.0 fs      1.0 ns                 298 K   1 atm  \n",
       "md2@10712131       NPT  0.5 fs  0.5-1.0 ns  298, 298, 298, 313 K   1 atm  \n",
       "md3@10712131       NPT  1.0 fs      0.5 ns  298, 298, 298, 313 K   1 atm  \n",
       "md4@10712131       NPT  1.0 fs  0.8-1.0 ns  298, 298, 298, 313 K   1 atm  \n",
       "md5@10712131       NPT  1.0 fs  0.8-1.0 ns  298, 298, 298, 313 K   1 atm  \n",
       "md1@10890165  NPT, NVT  1.0 fs      0.6 ns                 500 K   1 atm  \n",
       "md2@10890165  NPT, NVT  1.0 fs      0.6 ns                 500 K   1 atm  \n",
       "md3@10890165  NPT, NVT  1.0 fs      1.0 ns                 500 K   1 atm  \n",
       "md4@10890165  NPT, NVT  1.0 fs      0.5 ns                 500 K   1 atm  \n",
       "md5@10890165  NPT, NVT  1.0 fs      0.9 ns                 500 K   1 atm  \n",
       "md6@10890165  NPT, NVT  1.0 fs      0.9 ns                 500 K   1 atm  "
      ]
     },
     "execution_count": 3,
     "metadata": {},
     "output_type": "execute_result"
    }
   ],
   "source": [
    "ze.zdb.to_pd('MDSims')"
   ]
  },
  {
   "cell_type": "markdown",
   "metadata": {},
   "source": [
    "# Get data by tag (e.g. MD trajectory)"
   ]
  },
  {
   "cell_type": "code",
   "execution_count": 4,
   "metadata": {},
   "outputs": [],
   "source": [
    "files = ze.read_dat_files('md4@10890165', ext='.thermo')"
   ]
  },
  {
   "cell_type": "code",
   "execution_count": 5,
   "metadata": {},
   "outputs": [
    {
     "data": {
      "image/png": "[encoded data removed]",
      "text/plain": [
       "<Figure size 640x480 with 1 Axes>"
      ]
     },
     "metadata": {},
     "output_type": "display_data"
    }
   ],
   "source": [
    "from aseMolec import pltProps as pp\n",
    "\n",
    "traj = pp.loadtxttag(files[0])\n",
    "pp.simpleplot(traj, 0, 2)"
   ]
  },
  {
   "cell_type": "markdown",
   "metadata": {},
   "source": [
    "# Remove some data (including dependencies) from the tables"
   ]
  },
  {
   "cell_type": "code",
   "execution_count": 8,
   "metadata": {},
   "outputs": [
    {
     "data": {
      "application/vnd.plotly.v1+json": {
       "config": {
        "plotlyServerURL": "https://plot.ly"
       },
       "data": [
        {
         "arrangement": "snap",
         "link": {
          "source": [
           0,
           0,
           1,
           1,
           2,
           3,
           4,
           5,
           6,
           7,
           8,
           9,
           10,
           11,
           12
          ],
          "target": [
           3,
           4,
           5,
           6,
           7,
           8,
           9,
           10,
           11,
           12,
           13,
           16,
           17,
           14,
           15
          ],
          "value": [
           1,
           1,
           1,
           1,
           1,
           1,
           1,
           1,
           1,
           1,
           1,
           1,
           1,
           1,
           1
          ]
         },
         "node": {
          "customdata": [
           "ac1@10835267",
           "ac1@10712131",
           "ac2@10712131",
           "td2@10835267",
           "td1@10712131",
           "td2@10712131",
           "td3@10712131",
           "td4@10712131",
           "ml4@10835267",
           "ml1@10712131",
           "ml2@10712131",
           "ml3@10712131",
           "ml4@10712131",
           "md1@10835267",
           "md2@10712131",
           "md3@10712131",
           "md4@10712131",
           "md5@10712131"
          ],
          "hovertemplate": "%{customdata}",
          "label": [
           "IBM23",
           "SD22NQ",
           "SD22NQQ",
           "CP2K/PBE-D3",
           "VASP/B97-D3BJ",
           "PSI4/B97-D3BJ",
           "PSI4/wB97X-D3BJ",
           "PSI4/wB97X-D3BJ",
           "GAP/DTS, Rcut 3/6",
           "MACE/Layers 2, Rcut 6+6",
           "MACE/Layers 2, Rcut 6+6",
           "MACE/Layers 2, Rcut 6+6",
           "MACE/Layers 2, Rcut 6+6",
           "0%, 33%, 67%, 100% EC:EMC/NPT/300 K",
           "0%, 33%, 67%, 100% EC:EMC/NPT/298, 298, 298, 313 K",
           "0%, 33%, 67%, 100% EC:EMC/NPT/298, 298, 298, 313 K",
           "0%, 33%, 67%, 100% EC:EMC/NPT/298, 298, 298, 313 K",
           "0%, 33%, 67%, 100% EC:EMC/NPT/298, 298, 298, 313 K"
          ],
          "line": {
           "color": "black",
           "width": 0.5
          },
          "pad": 15,
          "thickness": 15,
          "x": [
           0.01,
           0.01,
           0.01,
           0.1,
           0.1,
           0.1,
           0.1,
           0.1,
           0.3,
           0.3,
           0.3,
           0.3,
           0.3,
           0.99,
           0.99,
           0.99,
           0.99,
           0.99
          ],
          "y": [
           0.1,
           0.3666666666666667,
           0.6333333333333333,
           0.1,
           0.26,
           0.42000000000000004,
           0.58,
           0.74,
           0.1,
           0.26,
           0.42000000000000004,
           0.58,
           0.74,
           0.1,
           0.26,
           0.42000000000000004,
           0.58,
           0.74
          ]
         },
         "type": "sankey"
        }
       ],
       "layout": {
        "template": {
         "data": {
          "bar": [
           {
            "error_x": {
             "color": "#2a3f5f"
            },
            "error_y": {
             "color": "#2a3f5f"
            },
            "marker": {
             "line": {
              "color": "#E5ECF6",
              "width": 0.5
             },
             "pattern": {
              "fillmode": "overlay",
              "size": 10,
              "solidity": 0.2
             }
            },
            "type": "bar"
           }
          ],
          "barpolar": [
           {
            "marker": {
             "line": {
              "color": "#E5ECF6",
              "width": 0.5
             },
             "pattern": {
              "fillmode": "overlay",
              "size": 10,
              "solidity": 0.2
             }
            },
            "type": "barpolar"
           }
          ],
          "carpet": [
           {
            "aaxis": {
             "endlinecolor": "#2a3f5f",
             "gridcolor": "white",
             "linecolor": "white",
             "minorgridcolor": "white",
             "startlinecolor": "#2a3f5f"
            },
            "baxis": {
             "endlinecolor": "#2a3f5f",
             "gridcolor": "white",
             "linecolor": "white",
             "minorgridcolor": "white",
             "startlinecolor": "#2a3f5f"
            },
            "type": "carpet"
           }
          ],
          "choropleth": [
           {
            "colorbar": {
             "outlinewidth": 0,
             "ticks": ""
            },
            "type": "choropleth"
           }
          ],
          "contour": [
           {
            "colorbar": {
             "outlinewidth": 0,
             "ticks": ""
            },
            "colorscale": [
             [
              0,
              "#0d0887"
             ],
             [
              0.1111111111111111,
              "#46039f"
             ],
             [
              0.2222222222222222,
              "#7201a8"
             ],
             [
              0.3333333333333333,
              "#9c179e"
             ],
             [
              0.4444444444444444,
              "#bd3786"
             ],
             [
              0.5555555555555556,
              "#d8576b"
             ],
             [
              0.6666666666666666,
              "#ed7953"
             ],
             [
              0.7777777777777778,
              "#fb9f3a"
             ],
             [
              0.8888888888888888,
              "#fdca26"
             ],
             [
              1,
              "#f0f921"
             ]
            ],
            "type": "contour"
           }
          ],
          "contourcarpet": [
           {
            "colorbar": {
             "outlinewidth": 0,
             "ticks": ""
            },
            "type": "contourcarpet"
           }
          ],
          "heatmap": [
           {
            "colorbar": {
             "outlinewidth": 0,
             "ticks": ""
            },
            "colorscale": [
             [
              0,
              "#0d0887"
             ],
             [
              0.1111111111111111,
              "#46039f"
             ],
             [
              0.2222222222222222,
              "#7201a8"
             ],
             [
              0.3333333333333333,
              "#9c179e"
             ],
             [
              0.4444444444444444,
              "#bd3786"
             ],
             [
              0.5555555555555556,
              "#d8576b"
             ],
             [
              0.6666666666666666,
              "#ed7953"
             ],
             [
              0.7777777777777778,
              "#fb9f3a"
             ],
             [
              0.8888888888888888,
              "#fdca26"
             ],
             [
              1,
              "#f0f921"
             ]
            ],
            "type": "heatmap"
           }
          ],
          "heatmapgl": [
           {
            "colorbar": {
             "outlinewidth": 0,
             "ticks": ""
            },
            "colorscale": [
             [
              0,
              "#0d0887"
             ],
             [
              0.1111111111111111,
              "#46039f"
             ],
             [
              0.2222222222222222,
              "#7201a8"
             ],
             [
              0.3333333333333333,
              "#9c179e"
             ],
             [
              0.4444444444444444,
              "#bd3786"
             ],
             [
              0.5555555555555556,
              "#d8576b"
             ],
             [
              0.6666666666666666,
              "#ed7953"
             ],
             [
              0.7777777777777778,
              "#fb9f3a"
             ],
             [
              0.8888888888888888,
              "#fdca26"
             ],
             [
              1,
              "#f0f921"
             ]
            ],
            "type": "heatmapgl"
           }
          ],
          "histogram": [
           {
            "marker": {
             "pattern": {
              "fillmode": "overlay",
              "size": 10,
              "solidity": 0.2
             }
            },
            "type": "histogram"
           }
          ],
          "histogram2d": [
           {
            "colorbar": {
             "outlinewidth": 0,
             "ticks": ""
            },
            "colorscale": [
             [
              0,
              "#0d0887"
             ],
             [
              0.1111111111111111,
              "#46039f"
             ],
             [
              0.2222222222222222,
              "#7201a8"
             ],
             [
              0.3333333333333333,
              "#9c179e"
             ],
             [
              0.4444444444444444,
              "#bd3786"
             ],
             [
              0.5555555555555556,
              "#d8576b"
             ],
             [
              0.6666666666666666,
              "#ed7953"
             ],
             [
              0.7777777777777778,
              "#fb9f3a"
             ],
             [
              0.8888888888888888,
              "#fdca26"
             ],
             [
              1,
              "#f0f921"
             ]
            ],
            "type": "histogram2d"
           }
          ],
          "histogram2dcontour": [
           {
            "colorbar": {
             "outlinewidth": 0,
             "ticks": ""
            },
            "colorscale": [
             [
              0,
              "#0d0887"
             ],
             [
              0.1111111111111111,
              "#46039f"
             ],
             [
              0.2222222222222222,
              "#7201a8"
             ],
             [
              0.3333333333333333,
              "#9c179e"
             ],
             [
              0.4444444444444444,
              "#bd3786"
             ],
             [
              0.5555555555555556,
              "#d8576b"
             ],
             [
              0.6666666666666666,
              "#ed7953"
             ],
             [
              0.7777777777777778,
              "#fb9f3a"
             ],
             [
              0.8888888888888888,
              "#fdca26"
             ],
             [
              1,
              "#f0f921"
             ]
            ],
            "type": "histogram2dcontour"
           }
          ],
          "mesh3d": [
           {
            "colorbar": {
             "outlinewidth": 0,
             "ticks": ""
            },
            "type": "mesh3d"
           }
          ],
          "parcoords": [
           {
            "line": {
             "colorbar": {
              "outlinewidth": 0,
              "ticks": ""
             }
            },
            "type": "parcoords"
           }
          ],
          "pie": [
           {
            "automargin": true,
            "type": "pie"
           }
          ],
          "scatter": [
           {
            "fillpattern": {
             "fillmode": "overlay",
             "size": 10,
             "solidity": 0.2
            },
            "type": "scatter"
           }
          ],
          "scatter3d": [
           {
            "line": {
             "colorbar": {
              "outlinewidth": 0,
              "ticks": ""
             }
            },
            "marker": {
             "colorbar": {
              "outlinewidth": 0,
              "ticks": ""
             }
            },
            "type": "scatter3d"
           }
          ],
          "scattercarpet": [
           {
            "marker": {
             "colorbar": {
              "outlinewidth": 0,
              "ticks": ""
             }
            },
            "type": "scattercarpet"
           }
          ],
          "scattergeo": [
           {
            "marker": {
             "colorbar": {
              "outlinewidth": 0,
              "ticks": ""
             }
            },
            "type": "scattergeo"
           }
          ],
          "scattergl": [
           {
            "marker": {
             "colorbar": {
              "outlinewidth": 0,
              "ticks": ""
             }
            },
            "type": "scattergl"
           }
          ],
          "scattermapbox": [
           {
            "marker": {
             "colorbar": {
              "outlinewidth": 0,
              "ticks": ""
             }
            },
            "type": "scattermapbox"
           }
          ],
          "scatterpolar": [
           {
            "marker": {
             "colorbar": {
              "outlinewidth": 0,
              "ticks": ""
             }
            },
            "type": "scatterpolar"
           }
          ],
          "scatterpolargl": [
           {
            "marker": {
             "colorbar": {
              "outlinewidth": 0,
              "ticks": ""
             }
            },
            "type": "scatterpolargl"
           }
          ],
          "scatterternary": [
           {
            "marker": {
             "colorbar": {
              "outlinewidth": 0,
              "ticks": ""
             }
            },
            "type": "scatterternary"
           }
          ],
          "surface": [
           {
            "colorbar": {
             "outlinewidth": 0,
             "ticks": ""
            },
            "colorscale": [
             [
              0,
              "#0d0887"
             ],
             [
              0.1111111111111111,
              "#46039f"
             ],
             [
              0.2222222222222222,
              "#7201a8"
             ],
             [
              0.3333333333333333,
              "#9c179e"
             ],
             [
              0.4444444444444444,
              "#bd3786"
             ],
             [
              0.5555555555555556,
              "#d8576b"
             ],
             [
              0.6666666666666666,
              "#ed7953"
             ],
             [
              0.7777777777777778,
              "#fb9f3a"
             ],
             [
              0.8888888888888888,
              "#fdca26"
             ],
             [
              1,
              "#f0f921"
             ]
            ],
            "type": "surface"
           }
          ],
          "table": [
           {
            "cells": {
             "fill": {
              "color": "#EBF0F8"
             },
             "line": {
              "color": "white"
             }
            },
            "header": {
             "fill": {
              "color": "#C8D4E3"
             },
             "line": {
              "color": "white"
             }
            },
            "type": "table"
           }
          ]
         },
         "layout": {
          "annotationdefaults": {
           "arrowcolor": "#2a3f5f",
           "arrowhead": 0,
           "arrowwidth": 1
          },
          "autotypenumbers": "strict",
          "coloraxis": {
           "colorbar": {
            "outlinewidth": 0,
            "ticks": ""
           }
          },
          "colorscale": {
           "diverging": [
            [
             0,
             "#8e0152"
            ],
            [
             0.1,
             "#c51b7d"
            ],
            [
             0.2,
             "#de77ae"
            ],
            [
             0.3,
             "#f1b6da"
            ],
            [
             0.4,
             "#fde0ef"
            ],
            [
             0.5,
             "#f7f7f7"
            ],
            [
             0.6,
             "#e6f5d0"
            ],
            [
             0.7,
             "#b8e186"
            ],
            [
             0.8,
             "#7fbc41"
            ],
            [
             0.9,
             "#4d9221"
            ],
            [
             1,
             "#276419"
            ]
           ],
           "sequential": [
            [
             0,
             "#0d0887"
            ],
            [
             0.1111111111111111,
             "#46039f"
            ],
            [
             0.2222222222222222,
             "#7201a8"
            ],
            [
             0.3333333333333333,
             "#9c179e"
            ],
            [
             0.4444444444444444,
             "#bd3786"
            ],
            [
             0.5555555555555556,
             "#d8576b"
            ],
            [
             0.6666666666666666,
             "#ed7953"
            ],
            [
             0.7777777777777778,
             "#fb9f3a"
            ],
            [
             0.8888888888888888,
             "#fdca26"
            ],
            [
             1,
             "#f0f921"
            ]
           ],
           "sequentialminus": [
            [
             0,
             "#0d0887"
            ],
            [
             0.1111111111111111,
             "#46039f"
            ],
            [
             0.2222222222222222,
             "#7201a8"
            ],
            [
             0.3333333333333333,
             "#9c179e"
            ],
            [
             0.4444444444444444,
             "#bd3786"
            ],
            [
             0.5555555555555556,
             "#d8576b"
            ],
            [
             0.6666666666666666,
             "#ed7953"
            ],
            [
             0.7777777777777778,
             "#fb9f3a"
            ],
            [
             0.8888888888888888,
             "#fdca26"
            ],
            [
             1,
             "#f0f921"
            ]
           ]
          },
          "colorway": [
           "#636efa",
           "#EF553B",
           "#00cc96",
           "#ab63fa",
           "#FFA15A",
           "#19d3f3",
           "#FF6692",
           "#B6E880",
           "#FF97FF",
           "#FECB52"
          ],
          "font": {
           "color": "#2a3f5f"
          },
          "geo": {
           "bgcolor": "white",
           "lakecolor": "white",
           "landcolor": "#E5ECF6",
           "showlakes": true,
           "showland": true,
           "subunitcolor": "white"
          },
          "hoverlabel": {
           "align": "left"
          },
          "hovermode": "closest",
          "mapbox": {
           "style": "light"
          },
          "paper_bgcolor": "white",
          "plot_bgcolor": "#E5ECF6",
          "polar": {
           "angularaxis": {
            "gridcolor": "white",
            "linecolor": "white",
            "ticks": ""
           },
           "bgcolor": "#E5ECF6",
           "radialaxis": {
            "gridcolor": "white",
            "linecolor": "white",
            "ticks": ""
           }
          },
          "scene": {
           "xaxis": {
            "backgroundcolor": "#E5ECF6",
            "gridcolor": "white",
            "gridwidth": 2,
            "linecolor": "white",
            "showbackground": true,
            "ticks": "",
            "zerolinecolor": "white"
           },
           "yaxis": {
            "backgroundcolor": "#E5ECF6",
            "gridcolor": "white",
            "gridwidth": 2,
            "linecolor": "white",
            "showbackground": true,
            "ticks": "",
            "zerolinecolor": "white"
           },
           "zaxis": {
            "backgroundcolor": "#E5ECF6",
            "gridcolor": "white",
            "gridwidth": 2,
            "linecolor": "white",
            "showbackground": true,
            "ticks": "",
            "zerolinecolor": "white"
           }
          },
          "shapedefaults": {
           "line": {
            "color": "#2a3f5f"
           }
          },
          "ternary": {
           "aaxis": {
            "gridcolor": "white",
            "linecolor": "white",
            "ticks": ""
           },
           "baxis": {
            "gridcolor": "white",
            "linecolor": "white",
            "ticks": ""
           },
           "bgcolor": "#E5ECF6",
           "caxis": {
            "gridcolor": "white",
            "linecolor": "white",
            "ticks": ""
           }
          },
          "title": {
           "x": 0.05
          },
          "xaxis": {
           "automargin": true,
           "gridcolor": "white",
           "linecolor": "white",
           "ticks": "",
           "title": {
            "standoff": 15
           },
           "zerolinecolor": "white",
           "zerolinewidth": 2
          },
          "yaxis": {
           "automargin": true,
           "gridcolor": "white",
           "linecolor": "white",
           "ticks": "",
           "title": {
            "standoff": 15
           },
           "zerolinecolor": "white",
           "zerolinewidth": 2
          }
         }
        }
       }
      }
     },
     "metadata": {},
     "output_type": "display_data"
    }
   ],
   "source": [
    "ze.zdb.del_dat_tree('td1@10835267')\n",
    "ze.zdb.del_dat_tree('td1@10890165')\n",
    "ze.zdb.del_dat_tree('ml3@10835267')\n",
    "ze.zdb.del_dat_tree('md1@10712131')\n",
    "ze.zdb.del_dat_tree('md2@10835267')\n",
    "ze.zdb.plot()"
   ]
  }
 ],
 "metadata": {
  "kernelspec": {
   "display_name": "ECEMC_densities_MLIP",
   "language": "python",
   "name": "python3"
  },
  "language_info": {
   "codemirror_mode": {
    "name": "ipython",
    "version": 3
   },
   "file_extension": ".py",
   "mimetype": "text/x-python",
   "name": "python",
   "nbconvert_exporter": "python",
   "pygments_lexer": "ipython3",
   "version": "3.10.14"
  }
 },
 "nbformat": 4,
 "nbformat_minor": 2
}
