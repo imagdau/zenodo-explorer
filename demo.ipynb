{
 "cells": [
  {
   "cell_type": "code",
   "execution_count": 1,
   "metadata": {},
   "outputs": [
    {
     "name": "stderr",
     "output_type": "stream",
     "text": [
      "  0%|          | 0/49 [00:00<?, ?it/s]"
     ]
    }
   ],
   "source": [
    "from zenodoExplorer.zenexp import ze\n",
    "\n",
    "recIDs = [10835267, 10712131, 10890165]\n",
    "with open(\"api.key\", \"r\") as keyFile:\n",
    "    ACCESS_TOKEN = keyFile.readline().rstrip()\n",
    "\n",
    "ze = ze(ACCESS_TOKEN, recIDs)\n",
    "ze.cache_all_data()"
   ]
  }
 ],
 "metadata": {
  "kernelspec": {
   "display_name": "ECEMC_densities_MLIP",
   "language": "python",
   "name": "python3"
  },
  "language_info": {
   "codemirror_mode": {
    "name": "ipython",
    "version": 3
   },
   "file_extension": ".py",
   "mimetype": "text/x-python",
   "name": "python",
   "nbconvert_exporter": "python",
   "pygments_lexer": "ipython3",
   "version": "3.10.13"
  }
 },
 "nbformat": 4,
 "nbformat_minor": 2
}
