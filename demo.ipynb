{
 "cells": [
  {
   "cell_type": "markdown",
   "metadata": {},
   "source": [
    "# Cache all data from Zenodo community"
   ]
  },
  {
   "cell_type": "code",
   "execution_count": 1,
   "metadata": {},
   "outputs": [
    {
     "data": {
      "text/html": [
       "<div>\n",
       "<style scoped>\n",
       "    .dataframe tbody tr th:only-of-type {\n",
       "        vertical-align: middle;\n",
       "    }\n",
       "\n",
       "    .dataframe tbody tr th {\n",
       "        vertical-align: top;\n",
       "    }\n",
       "\n",
       "    .dataframe thead th {\n",
       "        text-align: right;\n",
       "    }\n",
       "</style>\n",
       "<table border=\"1\" class=\"dataframe\">\n",
       "  <thead>\n",
       "    <tr style=\"text-align: right;\">\n",
       "      <th></th>\n",
       "      <th>name</th>\n",
       "      <th>desc</th>\n",
       "    </tr>\n",
       "    <tr>\n",
       "      <th>tag</th>\n",
       "      <th></th>\n",
       "      <th></th>\n",
       "    </tr>\n",
       "  </thead>\n",
       "  <tbody>\n",
       "    <tr>\n",
       "      <th>ac1@10835267</th>\n",
       "      <td>IBM23</td>\n",
       "      <td>EC:EMC liquid PBC, isolated mols, volume scans...</td>\n",
       "    </tr>\n",
       "    <tr>\n",
       "      <th>ac1@10712131</th>\n",
       "      <td>SD22NQ</td>\n",
       "      <td>EC:VC:PC:EMC:DMC:DEC mol clusters, 25% of all ...</td>\n",
       "    </tr>\n",
       "    <tr>\n",
       "      <th>ac2@10712131</th>\n",
       "      <td>SD22NQQ</td>\n",
       "      <td>EC:VC:PC:EMC:DMC:DEC mol clusters, 7% of all n...</td>\n",
       "    </tr>\n",
       "  </tbody>\n",
       "</table>\n",
       "</div>"
      ],
      "text/plain": [
       "                 name                                               desc\n",
       "tag                                                                     \n",
       "ac1@10835267    IBM23  EC:EMC liquid PBC, isolated mols, volume scans...\n",
       "ac1@10712131   SD22NQ  EC:VC:PC:EMC:DMC:DEC mol clusters, 25% of all ...\n",
       "ac2@10712131  SD22NQQ  EC:VC:PC:EMC:DMC:DEC mol clusters, 7% of all n..."
      ]
     },
     "execution_count": 1,
     "metadata": {},
     "output_type": "execute_result"
    }
   ],
   "source": [
    "from zenodoExplorer.zenexp import ze\n",
    "\n",
    "recIDs = [10835267, 10712131, 10890165]\n",
    "with open(\"api.key\", \"r\") as keyFile:\n",
    "    ACCESS_TOKEN = keyFile.readline().rstrip()\n",
    "\n",
    "ze = ze(ACCESS_TOKEN, recIDs)\n",
    "ze.read_zdb()\n",
    "ze.zdb.to_pd('AtomicConfigs')"
   ]
  },
  {
   "cell_type": "code",
   "execution_count": 2,
   "metadata": {},
   "outputs": [
    {
     "data": {
      "text/html": [
       "<div>\n",
       "<style scoped>\n",
       "    .dataframe tbody tr th:only-of-type {\n",
       "        vertical-align: middle;\n",
       "    }\n",
       "\n",
       "    .dataframe tbody tr th {\n",
       "        vertical-align: top;\n",
       "    }\n",
       "\n",
       "    .dataframe thead th {\n",
       "        text-align: right;\n",
       "    }\n",
       "</style>\n",
       "<table border=\"1\" class=\"dataframe\">\n",
       "  <thead>\n",
       "    <tr style=\"text-align: right;\">\n",
       "      <th></th>\n",
       "      <th>at_conf</th>\n",
       "      <th>ab_init_code</th>\n",
       "      <th>ab_init_theo</th>\n",
       "    </tr>\n",
       "    <tr>\n",
       "      <th>tag</th>\n",
       "      <th></th>\n",
       "      <th></th>\n",
       "      <th></th>\n",
       "    </tr>\n",
       "  </thead>\n",
       "  <tbody>\n",
       "    <tr>\n",
       "      <th>td1@10835267</th>\n",
       "      <td>ac1@10835267</td>\n",
       "      <td>CASTEP</td>\n",
       "      <td>PBE-D2</td>\n",
       "    </tr>\n",
       "    <tr>\n",
       "      <th>td2@10835267</th>\n",
       "      <td>ac1@10835267</td>\n",
       "      <td>CP2K</td>\n",
       "      <td>PBE-D3</td>\n",
       "    </tr>\n",
       "    <tr>\n",
       "      <th>td1@10712131</th>\n",
       "      <td>ac1@10835267</td>\n",
       "      <td>VASP</td>\n",
       "      <td>B97-D3BJ</td>\n",
       "    </tr>\n",
       "    <tr>\n",
       "      <th>td2@10712131</th>\n",
       "      <td>ac1@10712131</td>\n",
       "      <td>PSI4</td>\n",
       "      <td>B97-D3BJ</td>\n",
       "    </tr>\n",
       "    <tr>\n",
       "      <th>td3@10712131</th>\n",
       "      <td>ac1@10712131</td>\n",
       "      <td>PSI4</td>\n",
       "      <td>wB97X-D3BJ</td>\n",
       "    </tr>\n",
       "    <tr>\n",
       "      <th>td4@10712131</th>\n",
       "      <td>ac2@10712131</td>\n",
       "      <td>PSI4</td>\n",
       "      <td>wB97X-D3BJ</td>\n",
       "    </tr>\n",
       "    <tr>\n",
       "      <th>td1@10890165</th>\n",
       "      <td>ac1@10835267</td>\n",
       "      <td>CASTEP (ASE+LAMMPS)</td>\n",
       "      <td>PBE-D2 (-fixed charge baseline)</td>\n",
       "    </tr>\n",
       "  </tbody>\n",
       "</table>\n",
       "</div>"
      ],
      "text/plain": [
       "                   at_conf         ab_init_code  \\\n",
       "tag                                               \n",
       "td1@10835267  ac1@10835267               CASTEP   \n",
       "td2@10835267  ac1@10835267                 CP2K   \n",
       "td1@10712131  ac1@10835267                 VASP   \n",
       "td2@10712131  ac1@10712131                 PSI4   \n",
       "td3@10712131  ac1@10712131                 PSI4   \n",
       "td4@10712131  ac2@10712131                 PSI4   \n",
       "td1@10890165  ac1@10835267  CASTEP (ASE+LAMMPS)   \n",
       "\n",
       "                                 ab_init_theo  \n",
       "tag                                            \n",
       "td1@10835267                           PBE-D2  \n",
       "td2@10835267                           PBE-D3  \n",
       "td1@10712131                         B97-D3BJ  \n",
       "td2@10712131                         B97-D3BJ  \n",
       "td3@10712131                       wB97X-D3BJ  \n",
       "td4@10712131                       wB97X-D3BJ  \n",
       "td1@10890165  PBE-D2 (-fixed charge baseline)  "
      ]
     },
     "execution_count": 2,
     "metadata": {},
     "output_type": "execute_result"
    }
   ],
   "source": [
    "ze.zdb.to_pd('TrainData')"
   ]
  },
  {
   "cell_type": "code",
   "execution_count": 3,
   "metadata": {},
   "outputs": [
    {
     "data": {
      "text/html": [
       "<div>\n",
       "<style scoped>\n",
       "    .dataframe tbody tr th:only-of-type {\n",
       "        vertical-align: middle;\n",
       "    }\n",
       "\n",
       "    .dataframe tbody tr th {\n",
       "        vertical-align: top;\n",
       "    }\n",
       "\n",
       "    .dataframe thead th {\n",
       "        text-align: right;\n",
       "    }\n",
       "</style>\n",
       "<table border=\"1\" class=\"dataframe\">\n",
       "  <thead>\n",
       "    <tr style=\"text-align: right;\">\n",
       "      <th></th>\n",
       "      <th>tr_data</th>\n",
       "      <th>ml_code</th>\n",
       "      <th>ml_settings</th>\n",
       "      <th>fit_prop</th>\n",
       "    </tr>\n",
       "    <tr>\n",
       "      <th>tag</th>\n",
       "      <th></th>\n",
       "      <th></th>\n",
       "      <th></th>\n",
       "      <th></th>\n",
       "    </tr>\n",
       "  </thead>\n",
       "  <tbody>\n",
       "    <tr>\n",
       "      <th>ml1@10835267</th>\n",
       "      <td>td1@10835267</td>\n",
       "      <td>GAP</td>\n",
       "      <td>DS, Rcut 3/6</td>\n",
       "      <td>energy, forces, virial</td>\n",
       "    </tr>\n",
       "    <tr>\n",
       "      <th>ml2@10835267</th>\n",
       "      <td>td1@10835267</td>\n",
       "      <td>GAP</td>\n",
       "      <td>DTS, Rcut 3/6</td>\n",
       "      <td>energy, forces, virial</td>\n",
       "    </tr>\n",
       "    <tr>\n",
       "      <th>ml3@10835267</th>\n",
       "      <td>td2@10835267</td>\n",
       "      <td>GAP</td>\n",
       "      <td>DS, Rcut 3/6</td>\n",
       "      <td>energy, forces, virial</td>\n",
       "    </tr>\n",
       "    <tr>\n",
       "      <th>ml4@10835267</th>\n",
       "      <td>td2@10835267</td>\n",
       "      <td>GAP</td>\n",
       "      <td>DTS, Rcut 3/6</td>\n",
       "      <td>energy, forces, virial</td>\n",
       "    </tr>\n",
       "    <tr>\n",
       "      <th>ml1@10712131</th>\n",
       "      <td>td1@10712131</td>\n",
       "      <td>MACE</td>\n",
       "      <td>Layers 2, Rcut 6+6</td>\n",
       "      <td>energy, forces</td>\n",
       "    </tr>\n",
       "    <tr>\n",
       "      <th>ml2@10712131</th>\n",
       "      <td>td2@10712131</td>\n",
       "      <td>MACE</td>\n",
       "      <td>Layers 2, Rcut 6+6</td>\n",
       "      <td>energy, forces</td>\n",
       "    </tr>\n",
       "    <tr>\n",
       "      <th>ml3@10712131</th>\n",
       "      <td>td3@10712131</td>\n",
       "      <td>MACE</td>\n",
       "      <td>Layers 2, Rcut 6+6</td>\n",
       "      <td>energy, forces</td>\n",
       "    </tr>\n",
       "    <tr>\n",
       "      <th>ml4@10712131</th>\n",
       "      <td>td4@10712131</td>\n",
       "      <td>MACE</td>\n",
       "      <td>Layers 2, Rcut 6+6</td>\n",
       "      <td>energy, forces</td>\n",
       "    </tr>\n",
       "    <tr>\n",
       "      <th>ml1@10890165</th>\n",
       "      <td>td1@10835267</td>\n",
       "      <td>GAP</td>\n",
       "      <td>DTS, Rcut 3/6 (seeds 1,2,3)</td>\n",
       "      <td>energy, forces, virial</td>\n",
       "    </tr>\n",
       "    <tr>\n",
       "      <th>ml2@10890165</th>\n",
       "      <td>td1@10890165</td>\n",
       "      <td>GAP</td>\n",
       "      <td>DTS, Rcut 3/6</td>\n",
       "      <td>energy, forces, virial</td>\n",
       "    </tr>\n",
       "    <tr>\n",
       "      <th>ml3@10890165</th>\n",
       "      <td>td1@10835267</td>\n",
       "      <td>MACE</td>\n",
       "      <td>Layers 2, Rcut 4+4</td>\n",
       "      <td>energy, forces, virial</td>\n",
       "    </tr>\n",
       "    <tr>\n",
       "      <th>ml4@10890165</th>\n",
       "      <td>td1@10835267</td>\n",
       "      <td>MACE</td>\n",
       "      <td>Layers 2, Rcut 6+6</td>\n",
       "      <td>energy, forces, virial</td>\n",
       "    </tr>\n",
       "  </tbody>\n",
       "</table>\n",
       "</div>"
      ],
      "text/plain": [
       "                   tr_data ml_code                  ml_settings  \\\n",
       "tag                                                               \n",
       "ml1@10835267  td1@10835267     GAP                 DS, Rcut 3/6   \n",
       "ml2@10835267  td1@10835267     GAP                DTS, Rcut 3/6   \n",
       "ml3@10835267  td2@10835267     GAP                 DS, Rcut 3/6   \n",
       "ml4@10835267  td2@10835267     GAP                DTS, Rcut 3/6   \n",
       "ml1@10712131  td1@10712131    MACE           Layers 2, Rcut 6+6   \n",
       "ml2@10712131  td2@10712131    MACE           Layers 2, Rcut 6+6   \n",
       "ml3@10712131  td3@10712131    MACE           Layers 2, Rcut 6+6   \n",
       "ml4@10712131  td4@10712131    MACE           Layers 2, Rcut 6+6   \n",
       "ml1@10890165  td1@10835267     GAP  DTS, Rcut 3/6 (seeds 1,2,3)   \n",
       "ml2@10890165  td1@10890165     GAP                DTS, Rcut 3/6   \n",
       "ml3@10890165  td1@10835267    MACE           Layers 2, Rcut 4+4   \n",
       "ml4@10890165  td1@10835267    MACE           Layers 2, Rcut 6+6   \n",
       "\n",
       "                            fit_prop  \n",
       "tag                                   \n",
       "ml1@10835267  energy, forces, virial  \n",
       "ml2@10835267  energy, forces, virial  \n",
       "ml3@10835267  energy, forces, virial  \n",
       "ml4@10835267  energy, forces, virial  \n",
       "ml1@10712131          energy, forces  \n",
       "ml2@10712131          energy, forces  \n",
       "ml3@10712131          energy, forces  \n",
       "ml4@10712131          energy, forces  \n",
       "ml1@10890165  energy, forces, virial  \n",
       "ml2@10890165  energy, forces, virial  \n",
       "ml3@10890165  energy, forces, virial  \n",
       "ml4@10890165  energy, forces, virial  "
      ]
     },
     "execution_count": 3,
     "metadata": {},
     "output_type": "execute_result"
    }
   ],
   "source": [
    "ze.zdb.to_pd('MLIPs')"
   ]
  },
  {
   "cell_type": "code",
   "execution_count": 4,
   "metadata": {},
   "outputs": [
    {
     "data": {
      "text/html": [
       "<div>\n",
       "<style scoped>\n",
       "    .dataframe tbody tr th:only-of-type {\n",
       "        vertical-align: middle;\n",
       "    }\n",
       "\n",
       "    .dataframe tbody tr th {\n",
       "        vertical-align: top;\n",
       "    }\n",
       "\n",
       "    .dataframe thead th {\n",
       "        text-align: right;\n",
       "    }\n",
       "</style>\n",
       "<table border=\"1\" class=\"dataframe\">\n",
       "  <thead>\n",
       "    <tr style=\"text-align: right;\">\n",
       "      <th></th>\n",
       "      <th>pes_model</th>\n",
       "      <th>md_code</th>\n",
       "      <th>md_system</th>\n",
       "      <th>md_no_at</th>\n",
       "      <th>md_ensmb</th>\n",
       "      <th>md_step</th>\n",
       "      <th>md_len</th>\n",
       "      <th>md_temp</th>\n",
       "      <th>md_pres</th>\n",
       "    </tr>\n",
       "    <tr>\n",
       "      <th>tag</th>\n",
       "      <th></th>\n",
       "      <th></th>\n",
       "      <th></th>\n",
       "      <th></th>\n",
       "      <th></th>\n",
       "      <th></th>\n",
       "      <th></th>\n",
       "      <th></th>\n",
       "      <th></th>\n",
       "    </tr>\n",
       "  </thead>\n",
       "  <tbody>\n",
       "    <tr>\n",
       "      <th>md1@10835267</th>\n",
       "      <td>ml4@10835267</td>\n",
       "      <td>LAMMPS</td>\n",
       "      <td>0%, 33%, 67%, 100% EC:EMC</td>\n",
       "      <td>1000</td>\n",
       "      <td>NPT</td>\n",
       "      <td>1.0 fs</td>\n",
       "      <td>1.0 ns</td>\n",
       "      <td>300 K</td>\n",
       "      <td>1 atm</td>\n",
       "    </tr>\n",
       "    <tr>\n",
       "      <th>md2@10835267</th>\n",
       "      <td>ml4@10835267</td>\n",
       "      <td>LAMMPS</td>\n",
       "      <td>0%, 33%, 67%, 100% EC:EMC</td>\n",
       "      <td>1000</td>\n",
       "      <td>NPT</td>\n",
       "      <td>1.0 fs</td>\n",
       "      <td>1.0 ns</td>\n",
       "      <td>350 K</td>\n",
       "      <td>1 atm</td>\n",
       "    </tr>\n",
       "    <tr>\n",
       "      <th>md1@10712131</th>\n",
       "      <td>ml3@10712131</td>\n",
       "      <td>ASE</td>\n",
       "      <td>EMC</td>\n",
       "      <td>1000</td>\n",
       "      <td>NPT</td>\n",
       "      <td>1.0 fs</td>\n",
       "      <td>1.0 ns</td>\n",
       "      <td>298 K</td>\n",
       "      <td>1 atm</td>\n",
       "    </tr>\n",
       "    <tr>\n",
       "      <th>md2@10712131</th>\n",
       "      <td>ml3@10712131</td>\n",
       "      <td>ASE</td>\n",
       "      <td>0%, 33%, 67%, 100% EC:EMC</td>\n",
       "      <td>1000</td>\n",
       "      <td>NPT</td>\n",
       "      <td>0.5 fs</td>\n",
       "      <td>0.5-1.0 ns</td>\n",
       "      <td>298, 298, 298, 313 K</td>\n",
       "      <td>1 atm</td>\n",
       "    </tr>\n",
       "    <tr>\n",
       "      <th>md3@10712131</th>\n",
       "      <td>ml4@10712131</td>\n",
       "      <td>ASE</td>\n",
       "      <td>0%, 33%, 67%, 100% EC:EMC</td>\n",
       "      <td>1000</td>\n",
       "      <td>NPT</td>\n",
       "      <td>1.0 fs</td>\n",
       "      <td>0.5 ns</td>\n",
       "      <td>298, 298, 298, 313 K</td>\n",
       "      <td>1 atm</td>\n",
       "    </tr>\n",
       "    <tr>\n",
       "      <th>md4@10712131</th>\n",
       "      <td>ml1@10712131</td>\n",
       "      <td>ASE</td>\n",
       "      <td>0%, 33%, 67%, 100% EC:EMC</td>\n",
       "      <td>1000</td>\n",
       "      <td>NPT</td>\n",
       "      <td>1.0 fs</td>\n",
       "      <td>0.8-1.0 ns</td>\n",
       "      <td>298, 298, 298, 313 K</td>\n",
       "      <td>1 atm</td>\n",
       "    </tr>\n",
       "    <tr>\n",
       "      <th>md5@10712131</th>\n",
       "      <td>ml2@10712131</td>\n",
       "      <td>ASE</td>\n",
       "      <td>0%, 33%, 67%, 100% EC:EMC</td>\n",
       "      <td>1000</td>\n",
       "      <td>NPT</td>\n",
       "      <td>1.0 fs</td>\n",
       "      <td>0.8-1.0 ns</td>\n",
       "      <td>298, 298, 298, 313 K</td>\n",
       "      <td>1 atm</td>\n",
       "    </tr>\n",
       "    <tr>\n",
       "      <th>md1@10890165</th>\n",
       "      <td>ml2@10835267</td>\n",
       "      <td>LAMMPS</td>\n",
       "      <td>33% EC:EMC (seeds 1,2,3)</td>\n",
       "      <td>640</td>\n",
       "      <td>NPT, NVT</td>\n",
       "      <td>1.0 fs</td>\n",
       "      <td>0.6 ns</td>\n",
       "      <td>500 K</td>\n",
       "      <td>1 atm</td>\n",
       "    </tr>\n",
       "    <tr>\n",
       "      <th>md2@10890165</th>\n",
       "      <td>ml1@10890165</td>\n",
       "      <td>LAMMPS</td>\n",
       "      <td>33% EC:EMC</td>\n",
       "      <td>640</td>\n",
       "      <td>NPT, NVT</td>\n",
       "      <td>1.0 fs</td>\n",
       "      <td>0.6 ns</td>\n",
       "      <td>500 K</td>\n",
       "      <td>1 atm</td>\n",
       "    </tr>\n",
       "    <tr>\n",
       "      <th>md3@10890165</th>\n",
       "      <td>ml2@10890165</td>\n",
       "      <td>LAMMPS</td>\n",
       "      <td>33% EC:EMC (seeds 1,2,3)</td>\n",
       "      <td>640</td>\n",
       "      <td>NPT, NVT</td>\n",
       "      <td>1.0 fs</td>\n",
       "      <td>1.0 ns</td>\n",
       "      <td>500 K</td>\n",
       "      <td>1 atm</td>\n",
       "    </tr>\n",
       "    <tr>\n",
       "      <th>md4@10890165</th>\n",
       "      <td>ml4@10890165</td>\n",
       "      <td>LAMMPS</td>\n",
       "      <td>33% EC:EMC</td>\n",
       "      <td>640</td>\n",
       "      <td>NPT, NVT</td>\n",
       "      <td>1.0 fs</td>\n",
       "      <td>0.5 ns</td>\n",
       "      <td>500 K</td>\n",
       "      <td>1 atm</td>\n",
       "    </tr>\n",
       "    <tr>\n",
       "      <th>md5@10890165</th>\n",
       "      <td>ml3@10890165</td>\n",
       "      <td>LAMMPS</td>\n",
       "      <td>33% EC:EMC</td>\n",
       "      <td>640</td>\n",
       "      <td>NPT, NVT</td>\n",
       "      <td>1.0 fs</td>\n",
       "      <td>0.9 ns</td>\n",
       "      <td>500 K</td>\n",
       "      <td>1 atm</td>\n",
       "    </tr>\n",
       "    <tr>\n",
       "      <th>md6@10890165</th>\n",
       "      <td>ml3@10890165</td>\n",
       "      <td>ASE</td>\n",
       "      <td>33% EC:EMC (seeds 1,2,3)</td>\n",
       "      <td>640</td>\n",
       "      <td>NPT, NVT</td>\n",
       "      <td>1.0 fs</td>\n",
       "      <td>0.9 ns</td>\n",
       "      <td>500 K</td>\n",
       "      <td>1 atm</td>\n",
       "    </tr>\n",
       "  </tbody>\n",
       "</table>\n",
       "</div>"
      ],
      "text/plain": [
       "                 pes_model md_code                  md_system  md_no_at  \\\n",
       "tag                                                                       \n",
       "md1@10835267  ml4@10835267  LAMMPS  0%, 33%, 67%, 100% EC:EMC      1000   \n",
       "md2@10835267  ml4@10835267  LAMMPS  0%, 33%, 67%, 100% EC:EMC      1000   \n",
       "md1@10712131  ml3@10712131     ASE                        EMC      1000   \n",
       "md2@10712131  ml3@10712131     ASE  0%, 33%, 67%, 100% EC:EMC      1000   \n",
       "md3@10712131  ml4@10712131     ASE  0%, 33%, 67%, 100% EC:EMC      1000   \n",
       "md4@10712131  ml1@10712131     ASE  0%, 33%, 67%, 100% EC:EMC      1000   \n",
       "md5@10712131  ml2@10712131     ASE  0%, 33%, 67%, 100% EC:EMC      1000   \n",
       "md1@10890165  ml2@10835267  LAMMPS   33% EC:EMC (seeds 1,2,3)       640   \n",
       "md2@10890165  ml1@10890165  LAMMPS                 33% EC:EMC       640   \n",
       "md3@10890165  ml2@10890165  LAMMPS   33% EC:EMC (seeds 1,2,3)       640   \n",
       "md4@10890165  ml4@10890165  LAMMPS                 33% EC:EMC       640   \n",
       "md5@10890165  ml3@10890165  LAMMPS                 33% EC:EMC       640   \n",
       "md6@10890165  ml3@10890165     ASE   33% EC:EMC (seeds 1,2,3)       640   \n",
       "\n",
       "              md_ensmb md_step      md_len               md_temp md_pres  \n",
       "tag                                                                       \n",
       "md1@10835267       NPT  1.0 fs      1.0 ns                 300 K   1 atm  \n",
       "md2@10835267       NPT  1.0 fs      1.0 ns                 350 K   1 atm  \n",
       "md1@10712131       NPT  1.0 fs      1.0 ns                 298 K   1 atm  \n",
       "md2@10712131       NPT  0.5 fs  0.5-1.0 ns  298, 298, 298, 313 K   1 atm  \n",
       "md3@10712131       NPT  1.0 fs      0.5 ns  298, 298, 298, 313 K   1 atm  \n",
       "md4@10712131       NPT  1.0 fs  0.8-1.0 ns  298, 298, 298, 313 K   1 atm  \n",
       "md5@10712131       NPT  1.0 fs  0.8-1.0 ns  298, 298, 298, 313 K   1 atm  \n",
       "md1@10890165  NPT, NVT  1.0 fs      0.6 ns                 500 K   1 atm  \n",
       "md2@10890165  NPT, NVT  1.0 fs      0.6 ns                 500 K   1 atm  \n",
       "md3@10890165  NPT, NVT  1.0 fs      1.0 ns                 500 K   1 atm  \n",
       "md4@10890165  NPT, NVT  1.0 fs      0.5 ns                 500 K   1 atm  \n",
       "md5@10890165  NPT, NVT  1.0 fs      0.9 ns                 500 K   1 atm  \n",
       "md6@10890165  NPT, NVT  1.0 fs      0.9 ns                 500 K   1 atm  "
      ]
     },
     "execution_count": 4,
     "metadata": {},
     "output_type": "execute_result"
    }
   ],
   "source": [
    "ze.zdb.to_pd('MDSims')"
   ]
  },
  {
   "cell_type": "code",
   "execution_count": 5,
   "metadata": {},
   "outputs": [
    {
     "data": {
      "application/vnd.plotly.v1+json": {
       "config": {
        "plotlyServerURL": "https://plot.ly"
       },
       "data": [
        {
         "link": {
          "source": [
           0,
           0,
           0,
           9,
           9,
           10,
           0,
           1,
           1,
           2,
           2,
           11,
           12,
           13,
           14,
           1,
           24,
           1,
           1,
           6,
           6,
           17,
           17,
           18,
           15,
           16,
           4,
           25,
           26,
           28,
           27,
           27
          ],
          "target": [
           1,
           2,
           11,
           12,
           13,
           14,
           24,
           3,
           4,
           5,
           6,
           15,
           16,
           17,
           18,
           25,
           26,
           27,
           28,
           7,
           8,
           19,
           20,
           21,
           22,
           23,
           29,
           30,
           31,
           32,
           33,
           34
          ],
          "value": [
           1,
           1,
           1,
           1,
           1,
           1,
           1,
           1,
           1,
           1,
           1,
           1,
           1,
           1,
           1,
           1,
           1,
           1,
           1,
           1,
           1,
           1,
           1,
           1,
           1,
           1,
           1,
           1,
           1,
           1,
           1,
           1
          ]
         },
         "node": {
          "label": [
           "ac1@10835267",
           "td1@10835267",
           "td2@10835267",
           "ml1@10835267",
           "ml2@10835267",
           "ml3@10835267",
           "ml4@10835267",
           "md1@10835267",
           "md2@10835267",
           "ac1@10712131",
           "ac2@10712131",
           "td1@10712131",
           "td2@10712131",
           "td3@10712131",
           "td4@10712131",
           "ml1@10712131",
           "ml2@10712131",
           "ml3@10712131",
           "ml4@10712131",
           "md1@10712131",
           "md2@10712131",
           "md3@10712131",
           "md4@10712131",
           "md5@10712131",
           "td1@10890165",
           "ml1@10890165",
           "ml2@10890165",
           "ml3@10890165",
           "ml4@10890165",
           "md1@10890165",
           "md2@10890165",
           "md3@10890165",
           "md4@10890165",
           "md5@10890165",
           "md6@10890165"
          ]
         },
         "type": "sankey"
        }
       ],
       "layout": {
        "template": {
         "data": {
          "bar": [
           {
            "error_x": {
             "color": "#2a3f5f"
            },
            "error_y": {
             "color": "#2a3f5f"
            },
            "marker": {
             "line": {
              "color": "#E5ECF6",
              "width": 0.5
             },
             "pattern": {
              "fillmode": "overlay",
              "size": 10,
              "solidity": 0.2
             }
            },
            "type": "bar"
           }
          ],
          "barpolar": [
           {
            "marker": {
             "line": {
              "color": "#E5ECF6",
              "width": 0.5
             },
             "pattern": {
              "fillmode": "overlay",
              "size": 10,
              "solidity": 0.2
             }
            },
            "type": "barpolar"
           }
          ],
          "carpet": [
           {
            "aaxis": {
             "endlinecolor": "#2a3f5f",
             "gridcolor": "white",
             "linecolor": "white",
             "minorgridcolor": "white",
             "startlinecolor": "#2a3f5f"
            },
            "baxis": {
             "endlinecolor": "#2a3f5f",
             "gridcolor": "white",
             "linecolor": "white",
             "minorgridcolor": "white",
             "startlinecolor": "#2a3f5f"
            },
            "type": "carpet"
           }
          ],
          "choropleth": [
           {
            "colorbar": {
             "outlinewidth": 0,
             "ticks": ""
            },
            "type": "choropleth"
           }
          ],
          "contour": [
           {
            "colorbar": {
             "outlinewidth": 0,
             "ticks": ""
            },
            "colorscale": [
             [
              0,
              "#0d0887"
             ],
             [
              0.1111111111111111,
              "#46039f"
             ],
             [
              0.2222222222222222,
              "#7201a8"
             ],
             [
              0.3333333333333333,
              "#9c179e"
             ],
             [
              0.4444444444444444,
              "#bd3786"
             ],
             [
              0.5555555555555556,
              "#d8576b"
             ],
             [
              0.6666666666666666,
              "#ed7953"
             ],
             [
              0.7777777777777778,
              "#fb9f3a"
             ],
             [
              0.8888888888888888,
              "#fdca26"
             ],
             [
              1,
              "#f0f921"
             ]
            ],
            "type": "contour"
           }
          ],
          "contourcarpet": [
           {
            "colorbar": {
             "outlinewidth": 0,
             "ticks": ""
            },
            "type": "contourcarpet"
           }
          ],
          "heatmap": [
           {
            "colorbar": {
             "outlinewidth": 0,
             "ticks": ""
            },
            "colorscale": [
             [
              0,
              "#0d0887"
             ],
             [
              0.1111111111111111,
              "#46039f"
             ],
             [
              0.2222222222222222,
              "#7201a8"
             ],
             [
              0.3333333333333333,
              "#9c179e"
             ],
             [
              0.4444444444444444,
              "#bd3786"
             ],
             [
              0.5555555555555556,
              "#d8576b"
             ],
             [
              0.6666666666666666,
              "#ed7953"
             ],
             [
              0.7777777777777778,
              "#fb9f3a"
             ],
             [
              0.8888888888888888,
              "#fdca26"
             ],
             [
              1,
              "#f0f921"
             ]
            ],
            "type": "heatmap"
           }
          ],
          "heatmapgl": [
           {
            "colorbar": {
             "outlinewidth": 0,
             "ticks": ""
            },
            "colorscale": [
             [
              0,
              "#0d0887"
             ],
             [
              0.1111111111111111,
              "#46039f"
             ],
             [
              0.2222222222222222,
              "#7201a8"
             ],
             [
              0.3333333333333333,
              "#9c179e"
             ],
             [
              0.4444444444444444,
              "#bd3786"
             ],
             [
              0.5555555555555556,
              "#d8576b"
             ],
             [
              0.6666666666666666,
              "#ed7953"
             ],
             [
              0.7777777777777778,
              "#fb9f3a"
             ],
             [
              0.8888888888888888,
              "#fdca26"
             ],
             [
              1,
              "#f0f921"
             ]
            ],
            "type": "heatmapgl"
           }
          ],
          "histogram": [
           {
            "marker": {
             "pattern": {
              "fillmode": "overlay",
              "size": 10,
              "solidity": 0.2
             }
            },
            "type": "histogram"
           }
          ],
          "histogram2d": [
           {
            "colorbar": {
             "outlinewidth": 0,
             "ticks": ""
            },
            "colorscale": [
             [
              0,
              "#0d0887"
             ],
             [
              0.1111111111111111,
              "#46039f"
             ],
             [
              0.2222222222222222,
              "#7201a8"
             ],
             [
              0.3333333333333333,
              "#9c179e"
             ],
             [
              0.4444444444444444,
              "#bd3786"
             ],
             [
              0.5555555555555556,
              "#d8576b"
             ],
             [
              0.6666666666666666,
              "#ed7953"
             ],
             [
              0.7777777777777778,
              "#fb9f3a"
             ],
             [
              0.8888888888888888,
              "#fdca26"
             ],
             [
              1,
              "#f0f921"
             ]
            ],
            "type": "histogram2d"
           }
          ],
          "histogram2dcontour": [
           {
            "colorbar": {
             "outlinewidth": 0,
             "ticks": ""
            },
            "colorscale": [
             [
              0,
              "#0d0887"
             ],
             [
              0.1111111111111111,
              "#46039f"
             ],
             [
              0.2222222222222222,
              "#7201a8"
             ],
             [
              0.3333333333333333,
              "#9c179e"
             ],
             [
              0.4444444444444444,
              "#bd3786"
             ],
             [
              0.5555555555555556,
              "#d8576b"
             ],
             [
              0.6666666666666666,
              "#ed7953"
             ],
             [
              0.7777777777777778,
              "#fb9f3a"
             ],
             [
              0.8888888888888888,
              "#fdca26"
             ],
             [
              1,
              "#f0f921"
             ]
            ],
            "type": "histogram2dcontour"
           }
          ],
          "mesh3d": [
           {
            "colorbar": {
             "outlinewidth": 0,
             "ticks": ""
            },
            "type": "mesh3d"
           }
          ],
          "parcoords": [
           {
            "line": {
             "colorbar": {
              "outlinewidth": 0,
              "ticks": ""
             }
            },
            "type": "parcoords"
           }
          ],
          "pie": [
           {
            "automargin": true,
            "type": "pie"
           }
          ],
          "scatter": [
           {
            "fillpattern": {
             "fillmode": "overlay",
             "size": 10,
             "solidity": 0.2
            },
            "type": "scatter"
           }
          ],
          "scatter3d": [
           {
            "line": {
             "colorbar": {
              "outlinewidth": 0,
              "ticks": ""
             }
            },
            "marker": {
             "colorbar": {
              "outlinewidth": 0,
              "ticks": ""
             }
            },
            "type": "scatter3d"
           }
          ],
          "scattercarpet": [
           {
            "marker": {
             "colorbar": {
              "outlinewidth": 0,
              "ticks": ""
             }
            },
            "type": "scattercarpet"
           }
          ],
          "scattergeo": [
           {
            "marker": {
             "colorbar": {
              "outlinewidth": 0,
              "ticks": ""
             }
            },
            "type": "scattergeo"
           }
          ],
          "scattergl": [
           {
            "marker": {
             "colorbar": {
              "outlinewidth": 0,
              "ticks": ""
             }
            },
            "type": "scattergl"
           }
          ],
          "scattermapbox": [
           {
            "marker": {
             "colorbar": {
              "outlinewidth": 0,
              "ticks": ""
             }
            },
            "type": "scattermapbox"
           }
          ],
          "scatterpolar": [
           {
            "marker": {
             "colorbar": {
              "outlinewidth": 0,
              "ticks": ""
             }
            },
            "type": "scatterpolar"
           }
          ],
          "scatterpolargl": [
           {
            "marker": {
             "colorbar": {
              "outlinewidth": 0,
              "ticks": ""
             }
            },
            "type": "scatterpolargl"
           }
          ],
          "scatterternary": [
           {
            "marker": {
             "colorbar": {
              "outlinewidth": 0,
              "ticks": ""
             }
            },
            "type": "scatterternary"
           }
          ],
          "surface": [
           {
            "colorbar": {
             "outlinewidth": 0,
             "ticks": ""
            },
            "colorscale": [
             [
              0,
              "#0d0887"
             ],
             [
              0.1111111111111111,
              "#46039f"
             ],
             [
              0.2222222222222222,
              "#7201a8"
             ],
             [
              0.3333333333333333,
              "#9c179e"
             ],
             [
              0.4444444444444444,
              "#bd3786"
             ],
             [
              0.5555555555555556,
              "#d8576b"
             ],
             [
              0.6666666666666666,
              "#ed7953"
             ],
             [
              0.7777777777777778,
              "#fb9f3a"
             ],
             [
              0.8888888888888888,
              "#fdca26"
             ],
             [
              1,
              "#f0f921"
             ]
            ],
            "type": "surface"
           }
          ],
          "table": [
           {
            "cells": {
             "fill": {
              "color": "#EBF0F8"
             },
             "line": {
              "color": "white"
             }
            },
            "header": {
             "fill": {
              "color": "#C8D4E3"
             },
             "line": {
              "color": "white"
             }
            },
            "type": "table"
           }
          ]
         },
         "layout": {
          "annotationdefaults": {
           "arrowcolor": "#2a3f5f",
           "arrowhead": 0,
           "arrowwidth": 1
          },
          "autotypenumbers": "strict",
          "coloraxis": {
           "colorbar": {
            "outlinewidth": 0,
            "ticks": ""
           }
          },
          "colorscale": {
           "diverging": [
            [
             0,
             "#8e0152"
            ],
            [
             0.1,
             "#c51b7d"
            ],
            [
             0.2,
             "#de77ae"
            ],
            [
             0.3,
             "#f1b6da"
            ],
            [
             0.4,
             "#fde0ef"
            ],
            [
             0.5,
             "#f7f7f7"
            ],
            [
             0.6,
             "#e6f5d0"
            ],
            [
             0.7,
             "#b8e186"
            ],
            [
             0.8,
             "#7fbc41"
            ],
            [
             0.9,
             "#4d9221"
            ],
            [
             1,
             "#276419"
            ]
           ],
           "sequential": [
            [
             0,
             "#0d0887"
            ],
            [
             0.1111111111111111,
             "#46039f"
            ],
            [
             0.2222222222222222,
             "#7201a8"
            ],
            [
             0.3333333333333333,
             "#9c179e"
            ],
            [
             0.4444444444444444,
             "#bd3786"
            ],
            [
             0.5555555555555556,
             "#d8576b"
            ],
            [
             0.6666666666666666,
             "#ed7953"
            ],
            [
             0.7777777777777778,
             "#fb9f3a"
            ],
            [
             0.8888888888888888,
             "#fdca26"
            ],
            [
             1,
             "#f0f921"
            ]
           ],
           "sequentialminus": [
            [
             0,
             "#0d0887"
            ],
            [
             0.1111111111111111,
             "#46039f"
            ],
            [
             0.2222222222222222,
             "#7201a8"
            ],
            [
             0.3333333333333333,
             "#9c179e"
            ],
            [
             0.4444444444444444,
             "#bd3786"
            ],
            [
             0.5555555555555556,
             "#d8576b"
            ],
            [
             0.6666666666666666,
             "#ed7953"
            ],
            [
             0.7777777777777778,
             "#fb9f3a"
            ],
            [
             0.8888888888888888,
             "#fdca26"
            ],
            [
             1,
             "#f0f921"
            ]
           ]
          },
          "colorway": [
           "#636efa",
           "#EF553B",
           "#00cc96",
           "#ab63fa",
           "#FFA15A",
           "#19d3f3",
           "#FF6692",
           "#B6E880",
           "#FF97FF",
           "#FECB52"
          ],
          "font": {
           "color": "#2a3f5f"
          },
          "geo": {
           "bgcolor": "white",
           "lakecolor": "white",
           "landcolor": "#E5ECF6",
           "showlakes": true,
           "showland": true,
           "subunitcolor": "white"
          },
          "hoverlabel": {
           "align": "left"
          },
          "hovermode": "closest",
          "mapbox": {
           "style": "light"
          },
          "paper_bgcolor": "white",
          "plot_bgcolor": "#E5ECF6",
          "polar": {
           "angularaxis": {
            "gridcolor": "white",
            "linecolor": "white",
            "ticks": ""
           },
           "bgcolor": "#E5ECF6",
           "radialaxis": {
            "gridcolor": "white",
            "linecolor": "white",
            "ticks": ""
           }
          },
          "scene": {
           "xaxis": {
            "backgroundcolor": "#E5ECF6",
            "gridcolor": "white",
            "gridwidth": 2,
            "linecolor": "white",
            "showbackground": true,
            "ticks": "",
            "zerolinecolor": "white"
           },
           "yaxis": {
            "backgroundcolor": "#E5ECF6",
            "gridcolor": "white",
            "gridwidth": 2,
            "linecolor": "white",
            "showbackground": true,
            "ticks": "",
            "zerolinecolor": "white"
           },
           "zaxis": {
            "backgroundcolor": "#E5ECF6",
            "gridcolor": "white",
            "gridwidth": 2,
            "linecolor": "white",
            "showbackground": true,
            "ticks": "",
            "zerolinecolor": "white"
           }
          },
          "shapedefaults": {
           "line": {
            "color": "#2a3f5f"
           }
          },
          "ternary": {
           "aaxis": {
            "gridcolor": "white",
            "linecolor": "white",
            "ticks": ""
           },
           "baxis": {
            "gridcolor": "white",
            "linecolor": "white",
            "ticks": ""
           },
           "bgcolor": "#E5ECF6",
           "caxis": {
            "gridcolor": "white",
            "linecolor": "white",
            "ticks": ""
           }
          },
          "title": {
           "x": 0.05
          },
          "xaxis": {
           "automargin": true,
           "gridcolor": "white",
           "linecolor": "white",
           "ticks": "",
           "title": {
            "standoff": 15
           },
           "zerolinecolor": "white",
           "zerolinewidth": 2
          },
          "yaxis": {
           "automargin": true,
           "gridcolor": "white",
           "linecolor": "white",
           "ticks": "",
           "title": {
            "standoff": 15
           },
           "zerolinecolor": "white",
           "zerolinewidth": 2
          }
         }
        }
       }
      }
     },
     "metadata": {},
     "output_type": "display_data"
    }
   ],
   "source": [
    "ze.zdb.plot()"
   ]
  },
  {
   "cell_type": "code",
   "execution_count": 6,
   "metadata": {},
   "outputs": [
    {
     "name": "stdout",
     "output_type": "stream",
     "text": [
      "10835267\n"
     ]
    },
    {
     "name": "stderr",
     "output_type": "stream",
     "text": [
      "100%|██████████| 31/31 [00:00<00:00, 19643.97it/s]\n"
     ]
    },
    {
     "name": "stdout",
     "output_type": "stream",
     "text": [
      "10712131\n"
     ]
    },
    {
     "name": "stderr",
     "output_type": "stream",
     "text": [
      "  0%|          | 0/11 [00:00<?, ?it/s]"
     ]
    },
    {
     "name": "stderr",
     "output_type": "stream",
     "text": [
      "100%|██████████| 11/11 [00:00<00:00, 5001.88it/s]\n"
     ]
    },
    {
     "name": "stdout",
     "output_type": "stream",
     "text": [
      "10890165\n"
     ]
    },
    {
     "name": "stderr",
     "output_type": "stream",
     "text": [
      "100%|██████████| 11/11 [00:00<00:00, 6962.03it/s]\n"
     ]
    }
   ],
   "source": [
    "ze.cache_all_data()"
   ]
  }
 ],
 "metadata": {
  "kernelspec": {
   "display_name": "ECEMC_densities_MLIP",
   "language": "python",
   "name": "python3"
  },
  "language_info": {
   "codemirror_mode": {
    "name": "ipython",
    "version": 3
   },
   "file_extension": ".py",
   "mimetype": "text/x-python",
   "name": "python",
   "nbconvert_exporter": "python",
   "pygments_lexer": "ipython3",
   "version": "3.10.13"
  }
 },
 "nbformat": 4,
 "nbformat_minor": 2
}
